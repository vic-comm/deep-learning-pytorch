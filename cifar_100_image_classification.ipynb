{
  "nbformat": 4,
  "nbformat_minor": 0,
  "metadata": {
    "colab": {
      "provenance": [],
      "gpuType": "T4",
      "authorship_tag": "ABX9TyMyr3NPDaO7CGpK9o0xY3QP",
      "include_colab_link": true
    },
    "kernelspec": {
      "name": "python3",
      "display_name": "Python 3"
    },
    "language_info": {
      "name": "python"
    },
    "accelerator": "GPU"
  },
  "cells": [
    {
      "cell_type": "markdown",
      "metadata": {
        "id": "view-in-github",
        "colab_type": "text"
      },
      "source": [
        "<a href=\"https://colab.research.google.com/github/vic-comm/deep-learning-pytorch/blob/main/cifar_100_image_classification.ipynb\" target=\"_parent\"><img src=\"https://colab.research.google.com/assets/colab-badge.svg\" alt=\"Open In Colab\"/></a>"
      ]
    },
    {
      "cell_type": "code",
      "execution_count": null,
      "metadata": {
        "id": "fyiWSA8tIgKy"
      },
      "outputs": [],
      "source": [
        "import torch\n",
        "import torch.optim as optim\n",
        "from torch.utils.data import DataLoader\n",
        "from torch.utils.data import Dataset\n",
        "import torch.nn as nn\n",
        "import torch.nn.functional as F"
      ]
    },
    {
      "cell_type": "code",
      "source": [
        "from torchvision import datasets\n",
        "from torchvision import transforms\n",
        "from tqdm.notebook import trange, tqdm\n",
        "\n",
        "import matplotlib.pyplot as plt\n",
        "import numpy as np\n",
        "import pandas as pd"
      ],
      "metadata": {
        "id": "vDtzVIVaJGle"
      },
      "execution_count": null,
      "outputs": []
    },
    {
      "cell_type": "code",
      "source": [
        "data_path = r'C:\\Users\\USER\\Desktop\\STUDY\\python\\cifar 100'\n",
        "\n",
        "transform = transforms.Compose([transforms.Resize((32, 32)), transforms.RandomHorizontalFlip(p=0.3),\n",
        "                                transforms.RandomVerticalFlip(p=0.3), transforms.RandomGrayscale(p=0.2),\n",
        "                                transforms.ToTensor(), transforms.Normalize(mean=[0.485, 0.456, 0.406], std=[0.229, 0.224, 0.225])])\n",
        "\n",
        "train = datasets.CIFAR100(root= data_path, train=True, download=True, transform=transform)\n",
        "test = datasets.CIFAR100(root= data_path, train=False, download=True, transform=transform)"
      ],
      "metadata": {
        "colab": {
          "base_uri": "https://localhost:8080/"
        },
        "id": "8W2iLBVdKSjN",
        "outputId": "ad4f8ce9-6e60-4369-e873-15f928b630be"
      },
      "execution_count": null,
      "outputs": [
        {
          "output_type": "stream",
          "name": "stdout",
          "text": [
            "Downloading https://www.cs.toronto.edu/~kriz/cifar-100-python.tar.gz to C:\\Users\\USER\\Desktop\\STUDY\\python\\cifar 100/cifar-100-python.tar.gz\n"
          ]
        },
        {
          "output_type": "stream",
          "name": "stderr",
          "text": [
            "100%|██████████| 169001437/169001437 [00:04<00:00, 40600586.30it/s]\n"
          ]
        },
        {
          "output_type": "stream",
          "name": "stdout",
          "text": [
            "Extracting C:\\Users\\USER\\Desktop\\STUDY\\python\\cifar 100/cifar-100-python.tar.gz to C:\\Users\\USER\\Desktop\\STUDY\\python\\cifar 100\n",
            "Files already downloaded and verified\n"
          ]
        }
      ]
    },
    {
      "cell_type": "code",
      "source": [
        "n_train = int(len(train) * 0.9)\n",
        "n_val = len(train) - n_train\n",
        "\n",
        "train_data, val_data = torch.utils.data.random_split(train, [n_train, n_val])"
      ],
      "metadata": {
        "id": "R-kNZN3TNt3a"
      },
      "execution_count": null,
      "outputs": []
    },
    {
      "cell_type": "code",
      "source": [
        "img, label = train_data[0]\n",
        "plt.imshow(img.permute(1, 2, 0))"
      ],
      "metadata": {
        "colab": {
          "base_uri": "https://localhost:8080/",
          "height": 465
        },
        "id": "1Eh-W_XVQIMh",
        "outputId": "272e0d55-f14a-41f0-e92e-6023f0bfd364"
      },
      "execution_count": null,
      "outputs": [
        {
          "output_type": "stream",
          "name": "stderr",
          "text": [
            "WARNING:matplotlib.image:Clipping input data to the valid range for imshow with RGB data ([0..1] for floats or [0..255] for integers).\n"
          ]
        },
        {
          "output_type": "execute_result",
          "data": {
            "text/plain": [
              "<matplotlib.image.AxesImage at 0x7c3ac5879b70>"
            ]
          },
          "metadata": {},
          "execution_count": 5
        },
        {
          "output_type": "display_data",
          "data": {
            "text/plain": [
              "<Figure size 640x480 with 1 Axes>"
            ],
            "image/png": "[encoded data removed]"
          },
          "metadata": {}
        }
      ]
    },
    {
      "cell_type": "markdown",
      "source": [
        "# Different block types for residual network"
      ],
      "metadata": {
        "id": "rNxkzZp4QhOU"
      }
    },
    {
      "cell_type": "code",
      "source": [
        "class ResBlock(nn.Module):\n",
        "  def __init__(self, num_channels):\n",
        "    super().__init__()\n",
        "    self.conv1 = nn.Conv2d(num_channels, num_channels//2, kernel_size=3, padding=1)\n",
        "    self.b1 = nn.BatchNorm2d(num_channels//2)\n",
        "    self.conv2 - nn.Conv2d(num_channels//2, num_channels, kernel_size=3, padding=3)\n",
        "\n",
        "  def forward(self, x):\n",
        "    x0 = x\n",
        "    x = F.relu(x)\n",
        "    out = F.relu(self.b1(self.conv1(x)))\n",
        "    out = self.conv2(out)\n",
        "\n",
        "    return x0+out"
      ],
      "metadata": {
        "id": "bVQRDPxbfhSi"
      },
      "execution_count": null,
      "outputs": []
    },
    {
      "cell_type": "code",
      "source": [
        "class ResDown(nn.Module):\n",
        "  def __init__(self, in_channels, out_channels=None):\n",
        "    super().__init__()\n",
        "\n",
        "    if not out_channels:\n",
        "      out_channels= in_channels\n",
        "    self.conv1 = nn.Conv2d(in_channels, in_channels//2, kernel_size=3, padding=1)\n",
        "    self.b1 = nn.BatchNorm2d(in_channels//2)\n",
        "    self.conv2 = nn.Conv2d(in_channels//2, out_channels, kernel_size=3, padding=1)\n",
        "    self.conv3 = nn.Conv2d(in_channels, out_channels, kernel_size=3, padding=1)\n",
        "\n",
        "  def forward(self, x):\n",
        "    x= F.relu(x)\n",
        "\n",
        "    x1 = F.relu(self.b1(self.conv1(x)))\n",
        "    x1 = self.conv2(x1)\n",
        "    x2 = self.conv3(x)\n",
        "\n",
        "    return x2+x1"
      ],
      "metadata": {
        "id": "ZzLtvLwMhxU3"
      },
      "execution_count": null,
      "outputs": []
    },
    {
      "cell_type": "code",
      "source": [
        "class SkipBlock(nn.Module):\n",
        "  def __init__(self, channels):\n",
        "    super().__init__()\n",
        "    self.conv1 = nn.Conv2d(channels, channels//2, kernel_size=3, padding=1)\n",
        "    self.b1 = nn.BatchNorm2d(channels//2)\n",
        "    self.conv2 = nn.Conv2d(channels//2, channels//2, kernel_size=3, padding=1)\n",
        "\n",
        "  def forward(self, x):\n",
        "    x = F.relu(x)\n",
        "    x1 = self.conv1(x)\n",
        "    x2 = F.relu(self.b1(self.conv2(x1)))\n",
        "    x3 = self.conv2(x)\n",
        "\n",
        "    return torch.cat((x2, x3), 1)"
      ],
      "metadata": {
        "id": "SSEXHomRnwMT"
      },
      "execution_count": null,
      "outputs": []
    },
    {
      "cell_type": "code",
      "source": [
        "# Actual model\n",
        "class Deep_CNN(nn.Module):\n",
        "  def __init__(self, channels, output=100, width=64, num_layers=5, layer_type=ResDown):\n",
        "    super().__init__()\n",
        "    self.conv1 = nn.Conv2d(channels, width, kernel_size=3, padding=1)\n",
        "    self.bn1 = nn.BatchNorm2d(width)\n",
        "    self.conv2 = nn.Conv2d(width, width//2, kernel_size=3, padding=1)\n",
        "    self.bn2 = nn.BatchNorm2d(width//2)\n",
        "    self.conv3 = nn.Conv2d(width//2, width//2, kernel_size=3, padding=1)\n",
        "    self.pool = nn.MaxPool2d(kernel_size=2)\n",
        "    self.drop = nn.Dropout(p=0.3)\n",
        "    self.linear = nn.Linear(4*4*(width//2), output)\n",
        "\n",
        "    self.layers = nn.Sequential(*[layer_type(width//2) for _ in range(num_layers)])\n",
        "\n",
        "\n",
        "  def forward(self, x):\n",
        "    x = F.relu(self.bn1(self.conv1(x)))\n",
        "    x = self.pool(x)\n",
        "\n",
        "    x = F.relu(self.bn2(self.conv2(x)))\n",
        "    x = self.pool(x)\n",
        "\n",
        "    x = self.conv3(x)\n",
        "\n",
        "    x = F.relu(self.layers(x))\n",
        "    x = self.pool(x)\n",
        "\n",
        "    x = x.view(x.shape[0], -1)\n",
        "    x = self.drop(x)\n",
        "    x = self.linear(x)\n",
        "\n",
        "\n",
        "    return x"
      ],
      "metadata": {
        "id": "0_4XsIHApZOP"
      },
      "execution_count": null,
      "outputs": []
    },
    {
      "cell_type": "code",
      "source": [
        "from torchsummary import summary"
      ],
      "metadata": {
        "id": "ZOTcyfoWvOIF"
      },
      "execution_count": null,
      "outputs": []
    },
    {
      "cell_type": "code",
      "source": [
        "device = torch.device('cuda' if torch.cuda.is_available() else 'cpu')\n",
        "model = Deep_CNN(3).to(device)\n",
        "summary(model, (3, 32, 32))"
      ],
      "metadata": {
        "colab": {
          "base_uri": "https://localhost:8080/"
        },
        "id": "RcY7sprQwWDJ",
        "outputId": "1806623b-6b30-497d-e960-69107f7d2a01"
      },
      "execution_count": null,
      "outputs": [
        {
          "output_type": "stream",
          "name": "stdout",
          "text": [
            "----------------------------------------------------------------\n",
            "        Layer (type)               Output Shape         Param #\n",
            "================================================================\n",
            "            Conv2d-1           [-1, 64, 32, 32]           1,792\n",
            "       BatchNorm2d-2           [-1, 64, 32, 32]             128\n",
            "         MaxPool2d-3           [-1, 64, 16, 16]               0\n",
            "            Conv2d-4           [-1, 32, 16, 16]          18,464\n",
            "       BatchNorm2d-5           [-1, 32, 16, 16]              64\n",
            "         MaxPool2d-6             [-1, 32, 8, 8]               0\n",
            "            Conv2d-7             [-1, 32, 8, 8]           9,248\n",
            "            Conv2d-8             [-1, 16, 8, 8]           4,624\n",
            "       BatchNorm2d-9             [-1, 16, 8, 8]              32\n",
            "           Conv2d-10             [-1, 32, 8, 8]           4,640\n",
            "           Conv2d-11             [-1, 32, 8, 8]           9,248\n",
            "          ResDown-12             [-1, 32, 8, 8]               0\n",
            "           Conv2d-13             [-1, 16, 8, 8]           4,624\n",
            "      BatchNorm2d-14             [-1, 16, 8, 8]              32\n",
            "           Conv2d-15             [-1, 32, 8, 8]           4,640\n",
            "           Conv2d-16             [-1, 32, 8, 8]           9,248\n",
            "          ResDown-17             [-1, 32, 8, 8]               0\n",
            "           Conv2d-18             [-1, 16, 8, 8]           4,624\n",
            "      BatchNorm2d-19             [-1, 16, 8, 8]              32\n",
            "           Conv2d-20             [-1, 32, 8, 8]           4,640\n",
            "           Conv2d-21             [-1, 32, 8, 8]           9,248\n",
            "          ResDown-22             [-1, 32, 8, 8]               0\n",
            "           Conv2d-23             [-1, 16, 8, 8]           4,624\n",
            "      BatchNorm2d-24             [-1, 16, 8, 8]              32\n",
            "           Conv2d-25             [-1, 32, 8, 8]           4,640\n",
            "           Conv2d-26             [-1, 32, 8, 8]           9,248\n",
            "          ResDown-27             [-1, 32, 8, 8]               0\n",
            "           Conv2d-28             [-1, 16, 8, 8]           4,624\n",
            "      BatchNorm2d-29             [-1, 16, 8, 8]              32\n",
            "           Conv2d-30             [-1, 32, 8, 8]           4,640\n",
            "           Conv2d-31             [-1, 32, 8, 8]           9,248\n",
            "          ResDown-32             [-1, 32, 8, 8]               0\n",
            "        MaxPool2d-33             [-1, 32, 4, 4]               0\n",
            "          Dropout-34                  [-1, 512]               0\n",
            "           Linear-35                  [-1, 100]          51,300\n",
            "================================================================\n",
            "Total params: 173,716\n",
            "Trainable params: 173,716\n",
            "Non-trainable params: 0\n",
            "----------------------------------------------------------------\n",
            "Input size (MB): 0.01\n",
            "Forward/backward pass size (MB): 1.60\n",
            "Params size (MB): 0.66\n",
            "Estimated Total Size (MB): 2.28\n",
            "----------------------------------------------------------------\n"
          ]
        }
      ]
    },
    {
      "cell_type": "code",
      "source": [
        "optimizer = optim.SGD(model.parameters(), lr=1e-2)\n",
        "criterion = nn.CrossEntropyLoss()"
      ],
      "metadata": {
        "id": "E6EUFCJMwgzp"
      },
      "execution_count": null,
      "outputs": []
    },
    {
      "cell_type": "code",
      "source": [
        "test_loader = DataLoader(test, batch_size=64, shuffle=False)\n",
        "train_loader = DataLoader(train, batch_size=64, shuffle=True)"
      ],
      "metadata": {
        "id": "s69WiA9m8HYv"
      },
      "execution_count": null,
      "outputs": []
    },
    {
      "cell_type": "code",
      "source": [
        "def evaluate(model,test_loader, criterion):\n",
        "  model.eval()\n",
        "  test_loss = 0.0\n",
        "  running_acc = 0\n",
        "  total = 0\n",
        "\n",
        "  with torch.no_grad():\n",
        "    for imgs, labels in test_loader:\n",
        "      imgs, labels = imgs.to(device).float(), labels.to(device)\n",
        "\n",
        "      pred = model(imgs)\n",
        "      loss = criterion(pred, labels)\n",
        "      test_loss += loss.item()\n",
        "\n",
        "      _, predicted = torch.max(pred.data, 1)\n",
        "      total += labels.size(0)\n",
        "      running_acc += (predicted==labels).sum().item()\n",
        "\n",
        "    accuracy = (running_acc / total) * 100\n",
        "    test_loss = test_loss / len(test_loader)\n",
        "    return test_loss, accuracy\n",
        "\n",
        "train_losses = []\n",
        "train_accuracies = []\n",
        "test_losses = []\n",
        "test_accuracies = []\n",
        "max_epoch = 100"
      ],
      "metadata": {
        "id": "Cf6a4FMe4qWa"
      },
      "execution_count": null,
      "outputs": []
    },
    {
      "cell_type": "code",
      "source": [
        "# Training the model\n",
        "model.to(device)\n",
        "for epoch in range(max_epoch):\n",
        "    model.train()\n",
        "    running_loss = 0\n",
        "    running_acc = 0\n",
        "    total = 0\n",
        "\n",
        "    for i, (imgs, labels) in enumerate(train_loader):\n",
        "      imgs, labels = imgs.to(device), labels.to(device)\n",
        "      imgs = imgs.float()\n",
        "      optimizer.zero_grad()\n",
        "\n",
        "      outputs = model(imgs)\n",
        "      loss = criterion(outputs, labels)\n",
        "      running_loss += loss.item()\n",
        "\n",
        "      loss.backward()\n",
        "      optimizer.step()\n",
        "\n",
        "      _, predicted = torch.max(outputs.data, 1)\n",
        "      total += labels.size(0)\n",
        "      running_acc += (predicted == labels).sum().item()\n",
        "\n",
        "\n",
        "    epoch_accuracy = 100 * running_acc/total\n",
        "    epoch_loss = running_loss/(i + 1)\n",
        "\n",
        "    test_loss, test_accuracy = evaluate(model, test_loader, criterion)\n",
        "    print(f\"Epoch [{epoch + 1}/{max_epoch}], Loss: {epoch_loss:.4f}, Accuracy: {epoch_accuracy:.2f}%, Test Loss: {test_loss:.4f}, Test Accuracy: {test_accuracy:.2f}%\")\n",
        "\n",
        "    train_losses.append(epoch_loss)\n",
        "    train_accuracies.append(epoch_accuracy)\n",
        "    test_losses.append(test_loss)\n",
        "    test_accuracies.append(test_accuracy)"
      ],
      "metadata": {
        "colab": {
          "base_uri": "https://localhost:8080/"
        },
        "id": "7V8b-nid7Uyl",
        "outputId": "8f790445-c1bc-4348-fc00-abd6729cf128"
      },
      "execution_count": null,
      "outputs": [
        {
          "output_type": "stream",
          "name": "stdout",
          "text": [
            "Epoch [1/100], Loss: 2.5882, Accuracy: 32.87%, Test Loss: 2.8913, Test Accuracy: 27.80%\n",
            "Epoch [2/100], Loss: 2.5256, Accuracy: 34.02%, Test Loss: 3.0437, Test Accuracy: 24.90%\n",
            "Epoch [3/100], Loss: 2.4995, Accuracy: 34.84%, Test Loss: 3.3797, Test Accuracy: 22.22%\n",
            "Epoch [4/100], Loss: 2.4658, Accuracy: 35.63%, Test Loss: 3.3944, Test Accuracy: 21.61%\n",
            "Epoch [5/100], Loss: 2.4429, Accuracy: 36.00%, Test Loss: 3.5404, Test Accuracy: 19.37%\n",
            "Epoch [6/100], Loss: 2.4047, Accuracy: 36.98%, Test Loss: 3.3925, Test Accuracy: 22.82%\n",
            "Epoch [7/100], Loss: 2.3970, Accuracy: 37.06%, Test Loss: 3.2737, Test Accuracy: 24.78%\n",
            "Epoch [8/100], Loss: 2.3692, Accuracy: 37.38%, Test Loss: 2.9592, Test Accuracy: 27.59%\n",
            "Epoch [9/100], Loss: 2.3557, Accuracy: 38.02%, Test Loss: 4.2638, Test Accuracy: 16.72%\n",
            "Epoch [10/100], Loss: 2.3348, Accuracy: 38.24%, Test Loss: 3.3048, Test Accuracy: 23.33%\n",
            "Epoch [11/100], Loss: 2.3136, Accuracy: 39.07%, Test Loss: 2.5744, Test Accuracy: 33.90%\n",
            "Epoch [12/100], Loss: 2.3014, Accuracy: 38.80%, Test Loss: 3.0244, Test Accuracy: 26.93%\n",
            "Epoch [13/100], Loss: 2.2836, Accuracy: 39.26%, Test Loss: 2.6569, Test Accuracy: 32.28%\n",
            "Epoch [14/100], Loss: 2.2705, Accuracy: 39.70%, Test Loss: 3.3176, Test Accuracy: 24.15%\n"
          ]
        }
      ]
    },
    {
      "cell_type": "code",
      "source": [
        "import matplotlib.pyplot as plt\n",
        "\n",
        "plt.plot(train_losses, label='train_losses')\n",
        "plt.plot(test_losses, label='test_losses')\n",
        "plt.legend()"
      ],
      "metadata": {
        "id": "AVvOTyxV8aRp"
      },
      "execution_count": null,
      "outputs": []
    },
    {
      "cell_type": "code",
      "source": [
        "plt.plot(train_accuracies, label='train_accuracy')\n",
        "plt.plot(test_accuracies, label='test_accuracy')\n",
        "plt.legend()"
      ],
      "metadata": {
        "id": "nm_lY6VuFc19"
      },
      "execution_count": null,
      "outputs": []
    },
    {
      "cell_type": "code",
      "source": [
        "# Saving the model\n",
        "data_path = r'C:\\Users\\USER\\Desktop\\STUDY\\python\\cifar 100'\n",
        "torch.save(model.state_dict(), data_path + 'cifar 100.pt')\n",
        "loaded_model = Deep_CNN()\n",
        "loaded_model.load_state_dict(torch.load(data_path + 'cifar 100.pt'))\n"
      ],
      "metadata": {
        "id": "AwbhBvi4FjqY"
      },
      "execution_count": null,
      "outputs": []
    }
  ]
}